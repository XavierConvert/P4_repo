{
 "cells": [
  {
   "cell_type": "code",
   "execution_count": null,
   "metadata": {},
   "outputs": [],
   "source": [
    "import os\n",
    "import pandas as pd\n",
    "import numpy as np"
   ]
  },
  {
   "cell_type": "code",
   "execution_count": null,
   "metadata": {},
   "outputs": [],
   "source": [
    "pwd"
   ]
  },
  {
   "cell_type": "code",
   "execution_count": null,
   "metadata": {},
   "outputs": [],
   "source": [
    "cd .."
   ]
  },
  {
   "cell_type": "code",
   "execution_count": null,
   "metadata": {},
   "outputs": [],
   "source": [
    "files = os.listdir()\n",
    "files = [f for f in files if f.endswith(\".csv\")]\n",
    "filename = files[0]\n",
    "filename"
   ]
  },
  {
   "cell_type": "code",
   "execution_count": null,
   "metadata": {},
   "outputs": [],
   "source": [
    "df = pd.read_csv(filename)\n",
    "df"
   ]
  },
  {
   "cell_type": "code",
   "execution_count": null,
   "metadata": {},
   "outputs": [],
   "source": [
    "df = df.loc[df.TotalGHGEmissions.notnull(), :]\n",
    "\n",
    "df"
   ]
  },
  {
   "cell_type": "code",
   "execution_count": null,
   "metadata": {},
   "outputs": [],
   "source": [
    "df.isna().sum()"
   ]
  },
  {
   "cell_type": "code",
   "execution_count": null,
   "metadata": {},
   "outputs": [],
   "source": [
    "_df = df.select_dtypes(include=[np.number])\n",
    "_df"
   ]
  },
  {
   "cell_type": "code",
   "execution_count": null,
   "metadata": {},
   "outputs": [],
   "source": [
    "_df = _df.loc[_df[\"SiteEnergyUseWN(kBtu)\"].notnull(), :]\n",
    "_df"
   ]
  },
  {
   "cell_type": "code",
   "execution_count": null,
   "metadata": {},
   "outputs": [],
   "source": [
    "_df.columns"
   ]
  },
  {
   "cell_type": "code",
   "execution_count": null,
   "metadata": {},
   "outputs": [],
   "source": [
    "cols = [\n",
    "    # \"OSEBuildingID\",\n",
    "    # \"DataYear\",\n",
    "    # \"ZipCode\",\n",
    "    # \"CouncilDistrictCode\",\n",
    "    \"Latitude\",\n",
    "    \"Longitude\",\n",
    "    \"YearBuilt\",\n",
    "    \"NumberofBuildings\",\n",
    "    \"NumberofFloors\",\n",
    "    # \"PropertyGFATotal\",\n",
    "    \"PropertyGFAParking\",\n",
    "    \"PropertyGFABuilding(s)\",\n",
    "    # \"LargestPropertyUseTypeGFA\",\n",
    "    # \"SecondLargestPropertyUseTypeGFA\",\n",
    "    # \"ThirdLargestPropertyUseTypeGFA\",\n",
    "    \"ENERGYSTARScore\",\n",
    "    # \"SiteEUI(kBtu/sf)\",\n",
    "    # \"SiteEUIWN(kBtu/sf)\",\n",
    "    # \"SourceEUI(kBtu/sf)\",\n",
    "    # \"SourceEUIWN(kBtu/sf)\",\n",
    "    \"SiteEnergyUse(kBtu)\",\n",
    "    # \"SiteEnergyUseWN(kBtu)\",\n",
    "    # \"SteamUse(kBtu)\",\n",
    "    # \"Electricity(kWh)\",\n",
    "    # \"Electricity(kBtu)\",\n",
    "    # \"NaturalGas(therms)\",\n",
    "    # \"NaturalGas(kBtu)\",\n",
    "    # \"Comments\",\n",
    "    # \"TotalGHGEmissions\",\n",
    "    # \"GHGEmissionsIntensity\",\n",
    "]\n",
    "cols"
   ]
  },
  {
   "cell_type": "code",
   "execution_count": null,
   "metadata": {},
   "outputs": [],
   "source": [
    "_df = _df.loc[:, cols]\n",
    "_df"
   ]
  },
  {
   "cell_type": "code",
   "execution_count": null,
   "metadata": {},
   "outputs": [],
   "source": [
    "_df.to_csv(\"data_cleaned.csv\", index=False)\n"
   ]
  },
  {
   "cell_type": "code",
   "execution_count": null,
   "metadata": {},
   "outputs": [],
   "source": []
  }
 ],
 "metadata": {
  "kernelspec": {
   "display_name": ".venv",
   "language": "python",
   "name": "python3"
  },
  "language_info": {
   "codemirror_mode": {
    "name": "ipython",
    "version": 3
   },
   "file_extension": ".py",
   "mimetype": "text/x-python",
   "name": "python",
   "nbconvert_exporter": "python",
   "pygments_lexer": "ipython3",
   "version": "3.10.12"
  }
 },
 "nbformat": 4,
 "nbformat_minor": 2
}
